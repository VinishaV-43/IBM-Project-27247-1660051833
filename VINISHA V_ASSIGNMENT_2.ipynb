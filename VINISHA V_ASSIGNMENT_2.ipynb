{
  "nbformat": 4,
  "nbformat_minor": 0,
  "metadata": {
    "colab": {
      "provenance": [],
      "collapsed_sections": []
    },
    "kernelspec": {
      "name": "python3",
      "display_name": "Python 3"
    },
    "language_info": {
      "name": "python"
    },
    "accelerator": "GPU"
  },
  "cells": [
    {
      "cell_type": "markdown",
      "source": [
        "1.DOWNLOAD THE DATASET"
      ],
      "metadata": {
        "id": "4oGotMHQVxx3"
      }
    },
    {
      "cell_type": "code",
      "source": [
        "import pandas as pd\n",
        "import numpy as np"
      ],
      "metadata": {
        "id": "z2bcIHlNkotB"
      },
      "execution_count": null,
      "outputs": []
    },
    {
      "cell_type": "markdown",
      "source": [
        "2. LOAD THE DATASET"
      ],
      "metadata": {
        "id": "T6y6PwrsV5eC"
      }
    },
    {
      "cell_type": "code",
      "source": [
        "\n",
        "df = pd.read_csv('/content/Churn_Modelling.csv')"
      ],
      "metadata": {
        "id": "JI9LPTSNi7e6"
      },
      "execution_count": null,
      "outputs": []
    },
    {
      "cell_type": "code",
      "source": [
        "df.head()"
      ],
      "metadata": {
        "id": "uU_nBQAEj1jx"
      },
      "execution_count": null,
      "outputs": []
    },
    {
      "cell_type": "markdown",
      "source": [
        "3.VISUALIZATION\n"
      ],
      "metadata": {
        "id": "90HYEppyVmDn"
      }
    },
    {
      "cell_type": "code",
      "source": [
        "import matplotlib.pyplot as plt\n",
        "import seaborn as sns"
      ],
      "metadata": {
        "id": "N1Dc48v7ViMf"
      },
      "execution_count": null,
      "outputs": []
    },
    {
      "cell_type": "code",
      "source": [
        "\n",
        "#Univariate Analysis\n",
        "sns.displot(df['Age'])"
      ],
      "metadata": {
        "id": "t-2RGFcfUfo6"
      },
      "execution_count": null,
      "outputs": []
    },
    {
      "cell_type": "code",
      "source": [
        "#Bivariate Analysis\n",
        "sns.scatterplot(df['Tenure'],df['Age'])"
      ],
      "metadata": {
        "id": "ZtpvVOq3UkRw"
      },
      "execution_count": null,
      "outputs": []
    },
    {
      "cell_type": "code",
      "source": [
        "#Multivariate Analysis\n",
        "sns.jointplot(x='Age',y='Tenure',data=df)"
      ],
      "metadata": {
        "id": "SlfEIz-WUoGw"
      },
      "execution_count": null,
      "outputs": []
    },
    {
      "cell_type": "markdown",
      "source": [
        "4. Perform descriptive statistics on the dataset."
      ],
      "metadata": {
        "id": "9qgvD6CAWYgj"
      }
    },
    {
      "cell_type": "code",
      "source": [
        "df.describe().T"
      ],
      "metadata": {
        "id": "I80rztrOUrBB"
      },
      "execution_count": null,
      "outputs": []
    },
    {
      "cell_type": "markdown",
      "source": [
        "5. Handle the Missing values"
      ],
      "metadata": {
        "id": "kJVY5-woWnzy"
      }
    },
    {
      "cell_type": "code",
      "source": [
        "df.isnull().sum()"
      ],
      "metadata": {
        "id": "e9Q7OfHsVabk"
      },
      "execution_count": null,
      "outputs": []
    },
    {
      "cell_type": "markdown",
      "source": [
        "6. Find the outliers and replace the outliers\n"
      ],
      "metadata": {
        "id": "ixAY8GjZaaDb"
      }
    },
    {
      "cell_type": "code",
      "source": [
        "plt.boxplot(df[\"CreditScore\"])\n",
        "plt.show()"
      ],
      "metadata": {
        "colab": {
          "base_uri": "https://localhost:8080/",
          "height": 265
        },
        "id": "VWRKicBJehmY",
        "outputId": "4425012f-a89d-49c6-b4f9-cc3d8657173f"
      },
      "execution_count": null,
      "outputs": [
        {
          "output_type": "display_data",
          "data": {
            "text/plain": [
              "<Figure size 432x288 with 1 Axes>"
            ],
            "image/png": "[encoded data removed]"
          },
          "metadata": {
            "needs_background": "light"
          }
        }
      ]
    },
    {
      "cell_type": "markdown",
      "source": [
        "7. Check for Categorical columns and perform encoding."
      ],
      "metadata": {
        "id": "pWwWDY-abRbr"
      }
    },
    {
      "cell_type": "code",
      "source": [
        "df.dtypes\n"
      ],
      "metadata": {
        "id": "PDIaCSw8cBbn"
      },
      "execution_count": null,
      "outputs": []
    },
    {
      "cell_type": "code",
      "source": [
        "obj_df = df.select_dtypes(include=['object']).copy()\n",
        "obj_df.head()"
      ],
      "metadata": {
        "id": "FM2A03qdcYkn"
      },
      "execution_count": null,
      "outputs": []
    },
    {
      "cell_type": "markdown",
      "source": [
        "8.Split the data into dependent and independent variables."
      ],
      "metadata": {
        "id": "26a6Sb4mW2N_"
      }
    },
    {
      "cell_type": "code",
      "source": [
        "x = df.iloc[:,0:13].values;\n",
        "y = df.iloc[:,13:14].values;"
      ],
      "metadata": {
        "id": "iZKf2G8inZzJ"
      },
      "execution_count": null,
      "outputs": []
    },
    {
      "cell_type": "code",
      "source": [
        "x"
      ],
      "metadata": {
        "id": "DmgXMcy1rU0n"
      },
      "execution_count": null,
      "outputs": []
    },
    {
      "cell_type": "code",
      "source": [
        "y"
      ],
      "metadata": {
        "id": "o4j4T4k5rhxP"
      },
      "execution_count": null,
      "outputs": []
    },
    {
      "cell_type": "markdown",
      "source": [
        "9. Scale the independent values\n"
      ],
      "metadata": {
        "id": "kupQ4murXkP3"
      }
    },
    {
      "cell_type": "code",
      "source": [
        "import pandas as pd\n",
        "from sklearn.preprocessing import StandardScaler"
      ],
      "metadata": {
        "id": "RzHDsjxdZAxa"
      },
      "execution_count": null,
      "outputs": []
    },
    {
      "cell_type": "code",
      "source": [
        "scaler = StandardScaler()\n",
        "scaler.fit_transform(y)"
      ],
      "metadata": {
        "id": "YCJ_d4SoZUgq"
      },
      "execution_count": null,
      "outputs": []
    },
    {
      "cell_type": "markdown",
      "source": [
        "10. Split the data into training and testing"
      ],
      "metadata": {
        "id": "icXNa9OFXBee"
      }
    },
    {
      "cell_type": "code",
      "source": [
        "from sklearn.model_selection import  train_test_split"
      ],
      "metadata": {
        "id": "aiuj9CPQnCqi"
      },
      "execution_count": null,
      "outputs": []
    },
    {
      "cell_type": "code",
      "source": [
        "xtrain, xtest, ytrain, ytest = train_test_split(x,y,test_size=0.3,random_state=0)"
      ],
      "metadata": {
        "id": "LAb1IziwncDl"
      },
      "execution_count": null,
      "outputs": []
    },
    {
      "cell_type": "code",
      "source": [],
      "metadata": {
        "id": "b7_c31NDrmhq"
      },
      "execution_count": null,
      "outputs": []
    },
    {
      "cell_type": "code",
      "source": [],
      "metadata": {
        "id": "UAmTVdnGt1aR"
      },
      "execution_count": null,
      "outputs": []
    },
    {
      "cell_type": "code",
      "source": [
        "\n"
      ],
      "metadata": {
        "id": "nkLDhC7er3LT"
      },
      "execution_count": null,
      "outputs": []
    },
    {
      "cell_type": "code",
      "source": [],
      "metadata": {
        "id": "-zzcMUnjS9NB"
      },
      "execution_count": null,
      "outputs": []
    },
    {
      "cell_type": "code",
      "source": [],
      "metadata": {
        "id": "ZOvRua4oTmQb"
      },
      "execution_count": null,
      "outputs": []
    },
    {
      "cell_type": "code",
      "source": [],
      "metadata": {
        "id": "zDhCz1S6UAIA"
      },
      "execution_count": null,
      "outputs": []
    }
  ]
}